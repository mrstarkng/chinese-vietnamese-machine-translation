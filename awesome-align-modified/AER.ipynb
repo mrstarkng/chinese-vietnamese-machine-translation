{
 "cells": [
  {
   "cell_type": "code",
   "execution_count": 21,
   "id": "4613af70-d7dd-4a76-903e-622b19685a28",
   "metadata": {},
   "outputs": [
    {
     "name": "stdout",
     "output_type": "stream",
     "text": [
      "Alignment Error Rate (AER): 0.9206\n"
     ]
    }
   ],
   "source": [
    "def calculate_aer(gold_file, predicted_file):\n",
    "    sure, possible, predicted = 0, 0, 0\n",
    "    with open(gold_file, 'r', encoding='utf-8') as gfile, open(predicted_file, 'r', encoding='utf-8') as pfile:\n",
    "        for gline, pline in zip(gfile, pfile):\n",
    "            g_parts = gline.strip().split(' ||| ')\n",
    "            g_sure = set()\n",
    "            g_possible = set()\n",
    "            if len(g_parts) > 0 and g_parts[0]:\n",
    "                try:\n",
    "                    g_sure = set(tuple(map(int, pair.split('-'))) for pair in g_parts[0].split())\n",
    "                except ValueError:\n",
    "                    print(f\"Invalid format in gold file: {g_parts[0]}\")\n",
    "            if len(g_parts) > 1 and g_parts[1]:\n",
    "                try:\n",
    "                    g_possible = set(tuple(map(int, pair.split('-'))) for pair in g_parts[1].split())\n",
    "                except ValueError:\n",
    "                    print(f\"Invalid format in gold file: {g_parts[1]}\")\n",
    "            try:\n",
    "                p_pred = set(tuple(map(int, pair.split('-'))) for pair in pline.strip().split())\n",
    "            except ValueError:\n",
    "                print(f\"Invalid format in prediction file: {pline.strip()}\")\n",
    "                continue\n",
    "\n",
    "            sure += len(g_sure & p_pred)\n",
    "            possible += len(g_possible & p_pred)\n",
    "            predicted += len(p_pred)\n",
    "    return 1 - (sure + possible) / (len(g_sure) + len(g_possible) + predicted)\n",
    "\n",
    "\n",
    "# Example Usage\n",
    "gold_file = \"gold_alignment.txt\"  # File gold standard alignment\n",
    "predicted_file = \"alignment_output.txt\"  # File alignment output của model\n",
    "aer = calculate_aer(gold_file, predicted_file)\n",
    "print(f\"Alignment Error Rate (AER): {aer:.4f}\")\n"
   ]
  }
 ],
 "metadata": {
  "kernelspec": {
   "display_name": "Python 3 (ipykernel)",
   "language": "python",
   "name": "python3"
  },
  "language_info": {
   "codemirror_mode": {
    "name": "ipython",
    "version": 3
   },
   "file_extension": ".py",
   "mimetype": "text/x-python",
   "name": "python",
   "nbconvert_exporter": "python",
   "pygments_lexer": "ipython3",
   "version": "3.10.13"
  }
 },
 "nbformat": 4,
 "nbformat_minor": 5
}
